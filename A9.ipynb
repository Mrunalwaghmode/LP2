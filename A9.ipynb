{
 "cells": [
  {
   "cell_type": "code",
   "execution_count": null,
   "id": "888d8e22",
   "metadata": {},
   "outputs": [],
   "source": [
    "import heapq\n",
    "\n",
    "def dijkstra(graph, start):\n",
    "    distances = {node: float('inf') for node in graph}\n",
    "    distances[start] = 0\n",
    "    queue = [(0, start)]\n",
    "    visited = set()\n",
    "\n",
    "    while queue:\n",
    "        (cost, node) = heapq.heappop(queue)\n",
    "        if node in visited:\n",
    "            continue\n",
    "        visited.add(node)\n",
    "\n",
    "        for neighbor, weight in graph[node].items():\n",
    "            if neighbor not in visited:\n",
    "                new_cost = distances[node] + weight\n",
    "                if new_cost < distances[neighbor]:\n",
    "                    distances[neighbor] = new_cost\n",
    "                    heapq.heappush(queue, (new_cost, neighbor))\n",
    "\n",
    "    return distances\n",
    "\n",
    "# Example usage\n",
    "graph = {}\n",
    "\n",
    "n = int(input(\"Enter number of nodes: \"))\n",
    "\n",
    "for i in range(n):\n",
    "    node = input(f\"Enter name of node {i+1}: \")\n",
    "    edges = {}\n",
    "    while True:\n",
    "        neighbor = input(f\"Enter neighbor of {node} (or type 'done' to finish): \")\n",
    "        if neighbor == 'done':\n",
    "            break\n",
    "        weight = int(input(f\"Enter weight of edge between {node} and {neighbor}: \"))\n",
    "        edges[neighbor] = weight\n",
    "    graph[node] = edges\n",
    "\n",
    "start = input(\"Enter starting node: \")\n",
    "distances = dijkstra(graph, start)\n",
    "\n",
    "print(distances)\n"
   ]
  },
  {
   "cell_type": "code",
   "execution_count": null,
   "id": "0f2ff3c3",
   "metadata": {},
   "outputs": [],
   "source": []
  }
 ],
 "metadata": {
  "kernelspec": {
   "display_name": "Python 3 (ipykernel)",
   "language": "python",
   "name": "python3"
  },
  "language_info": {
   "codemirror_mode": {
    "name": "ipython",
    "version": 3
   },
   "file_extension": ".py",
   "mimetype": "text/x-python",
   "name": "python",
   "nbconvert_exporter": "python",
   "pygments_lexer": "ipython3",
   "version": "3.10.9"
  }
 },
 "nbformat": 4,
 "nbformat_minor": 5
}
