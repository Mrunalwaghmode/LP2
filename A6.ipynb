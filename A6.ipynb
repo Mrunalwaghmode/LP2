{
 "cells": [
  {
   "cell_type": "code",
   "execution_count": 2,
   "id": "6e3884cc",
   "metadata": {},
   "outputs": [
    {
     "name": "stdout",
     "output_type": "stream",
     "text": [
      "Enter the number of jobs: 4\n",
      "Enter deadline and profit for job 1: 2 50\n",
      "Enter deadline and profit for job 2: 3 60\n",
      "Enter deadline and profit for job 3: 1 40\n",
      "Enter deadline and profit for job 4: 2 300\n",
      "Job sequence: [3, 1, 2, 0]\n"
     ]
    }
   ],
   "source": [
    "# User input for number of jobs and their respective deadlines and profits\n",
    "n = int(input(\"Enter the number of jobs: \"))\n",
    "jobs = []\n",
    "for i in range(n):\n",
    "    deadline, profit = map(int, input(f\"Enter deadline and profit for job {i+1}: \").split())\n",
    "    jobs.append((deadline, profit))\n",
    "\n",
    "# Sorting jobs in descending order of profit\n",
    "jobs.sort(key=lambda x: x[1], reverse=True)\n",
    "\n",
    "# Greedy algorithm for scheduling jobs\n",
    "schedule = [0] * n\n",
    "for i in range(n):\n",
    "    for j in range(min(n, jobs[i][0])-1, -1, -1):\n",
    "        if schedule[j] == 0:\n",
    "            schedule[j] = i+1\n",
    "            break\n",
    "\n",
    "# Printing the schedule\n",
    "print(\"Job sequence:\", schedule)\n"
   ]
  },
  {
   "cell_type": "code",
   "execution_count": null,
   "id": "4b558f83",
   "metadata": {},
   "outputs": [],
   "source": []
  }
 ],
 "metadata": {
  "kernelspec": {
   "display_name": "Python 3 (ipykernel)",
   "language": "python",
   "name": "python3"
  },
  "language_info": {
   "codemirror_mode": {
    "name": "ipython",
    "version": 3
   },
   "file_extension": ".py",
   "mimetype": "text/x-python",
   "name": "python",
   "nbconvert_exporter": "python",
   "pygments_lexer": "ipython3",
   "version": "3.10.9"
  }
 },
 "nbformat": 4,
 "nbformat_minor": 5
}
