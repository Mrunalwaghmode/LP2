{
 "cells": [
  {
   "cell_type": "code",
   "execution_count": 1,
   "id": "cc39a460",
   "metadata": {},
   "outputs": [
    {
     "name": "stdout",
     "output_type": "stream",
     "text": [
      "(2 - 3): 4\n",
      "(0 - 3): 5\n",
      "(0 - 1): 10\n"
     ]
    }
   ],
   "source": [
    "class Graph:\n",
    "    def __init__(self, num_vertices):\n",
    "        self.num_vertices = num_vertices\n",
    "        self.edges = []\n",
    "\n",
    "    def add_edge(self, u, v, weight):\n",
    "        self.edges.append((u, v, weight))\n",
    "\n",
    "    def kruskal_mst(self):\n",
    "        mst = []\n",
    "        parent = list(range(self.num_vertices))\n",
    "\n",
    "        def find(v):\n",
    "            if parent[v] != v:\n",
    "                parent[v] = find(parent[v])\n",
    "            return parent[v]\n",
    "\n",
    "        def union(u, v):\n",
    "            parent[find(u)] = find(v)\n",
    "\n",
    "        sorted_edges = sorted(self.edges, key=lambda x: x[2])\n",
    "        for u, v, weight in sorted_edges:\n",
    "            if find(u) != find(v):\n",
    "                mst.append((u, v, weight))\n",
    "                union(u, v)\n",
    "\n",
    "        return mst\n",
    "\n",
    "\n",
    "# Example usage\n",
    "g = Graph(4)\n",
    "g.add_edge(0, 1, 10)\n",
    "g.add_edge(0, 2, 6)\n",
    "g.add_edge(0, 3, 5)\n",
    "g.add_edge(1, 3, 15)\n",
    "g.add_edge(2, 3, 4)\n",
    "\n",
    "mst = g.kruskal_mst()\n",
    "\n",
    "# Print the Minimum Spanning Tree\n",
    "for u, v, weight in mst:\n",
    "    print(f\"({u} - {v}): {weight}\")\n"
   ]
  },
  {
   "cell_type": "code",
   "execution_count": null,
   "id": "140e1efd",
   "metadata": {},
   "outputs": [],
   "source": []
  }
 ],
 "metadata": {
  "kernelspec": {
   "display_name": "Python 3 (ipykernel)",
   "language": "python",
   "name": "python3"
  },
  "language_info": {
   "codemirror_mode": {
    "name": "ipython",
    "version": 3
   },
   "file_extension": ".py",
   "mimetype": "text/x-python",
   "name": "python",
   "nbconvert_exporter": "python",
   "pygments_lexer": "ipython3",
   "version": "3.10.9"
  }
 },
 "nbformat": 4,
 "nbformat_minor": 5
}
